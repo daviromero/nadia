{
 "cells": [
  {
   "cell_type": "markdown",
   "metadata": {},
   "source": [
    "# NADIA - Natural Deduction Proof Assistant\n",
    "\n",
    "> Authors: \n",
    ">\n",
    ">   Prof. Davi Romero de Vasconcelos - daviromero@ufc.br\n",
    ">\n",
    ">   Robson Texeira - robson.teixeira2000@gmail.com\n",
    ">\n",
    ">   Profa. Maria Viviane Menezes - vivi@ufc.br\n",
    ">\n",
    "> Federal University of Ceará, Quixadá Campus"
   ]
  },
  {
   "cell_type": "code",
   "execution_count": null,
   "metadata": {},
   "outputs": [],
   "source": [
    "from nadia.nadia_pt_gui import nadia\n",
    "\n",
    "nadia()"
   ]
  }
 ],
 "metadata": {
  "kernelspec": {
   "display_name": "Python 3.9.7 ('base')",
   "language": "python",
   "name": "python3"
  },
  "language_info": {
   "codemirror_mode": {
    "name": "ipython",
    "version": 3
   },
   "file_extension": ".py",
   "mimetype": "text/x-python",
   "name": "python",
   "nbconvert_exporter": "python",
   "pygments_lexer": "ipython3",
   "version": "3.9.7"
  },
  "orig_nbformat": 4,
  "vscode": {
   "interpreter": {
    "hash": "40d3a090f54c6569ab1632332b64b2c03c39dcf918b08424e98f38b5ae0af88f"
   }
  }
 },
 "nbformat": 4,
 "nbformat_minor": 2
}
