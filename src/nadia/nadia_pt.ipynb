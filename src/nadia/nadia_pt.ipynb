{
 "cells": [
  {
   "attachments": {},
   "cell_type": "markdown",
   "metadata": {},
   "source": [
    "# NADIA - Natural Deduction Proof Assistant\n",
    "\n",
    "> Authors: \n",
    ">\n",
    ">   Prof. Davi Romero de Vasconcelos - daviromero@ufc.br\n",
    ">\n",
    ">   Robson Texeira - robson.teixeira2000@gmail.com\n",
    ">\n",
    ">   Profa. Maria Viviane Menezes - vivianemenezes@ufc.br\n",
    ">\n",
    "> Federal University of Ceará, Quixadá Campus"
   ]
  },
  {
   "cell_type": "code",
   "execution_count": null,
   "metadata": {},
   "outputs": [],
   "source": [
    "from nadia.nadia_pt_gui import nadia\n",
    "\n",
    "nadia()"
   ]
  }
 ],
 "metadata": {
  "kernelspec": {
   "display_name": "base",
   "language": "python",
   "name": "python3"
  },
  "language_info": {
   "codemirror_mode": {
    "name": "ipython",
    "version": 3
   },
   "file_extension": ".py",
   "mimetype": "text/x-python",
   "name": "python",
   "nbconvert_exporter": "python",
   "pygments_lexer": "ipython3",
   "version": "3.9.7"
  },
  "orig_nbformat": 4,
  "vscode": {
   "interpreter": {
    "hash": "ad2bdc8ecc057115af97d19610ffacc2b4e99fae6737bb82f5d7fb13d2f2c186"
   }
  }
 },
 "nbformat": 4,
 "nbformat_minor": 2
}
